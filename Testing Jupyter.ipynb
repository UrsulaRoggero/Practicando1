{
 "cells": [
  {
   "cell_type": "markdown",
   "metadata": {},
   "source": [
    "# Sample Headline\n",
    "sfsfdsfsd\n",
    "\n",
    "## Another Headline\n",
    "fdsfdfds\n",
    "fdfdsfds\n",
    "*fsdfdsf*\n",
    "-sesfsf-\n",
    "\n",
    "### Another other Headline\n",
    "etetew\n"
   ]
  },
  {
   "cell_type": "code",
   "execution_count": 5,
   "metadata": {
    "collapsed": true
   },
   "outputs": [],
   "source": [
    "Name=\"Hola\""
   ]
  },
  {
   "cell_type": "code",
   "execution_count": 6,
   "metadata": {
    "collapsed": false
   },
   "outputs": [
    {
     "data": {
      "text/plain": [
       "'Hola'"
      ]
     },
     "execution_count": 6,
     "metadata": {},
     "output_type": "execute_result"
    }
   ],
   "source": [
    "Name"
   ]
  },
  {
   "cell_type": "code",
   "execution_count": 8,
   "metadata": {
    "collapsed": false
   },
   "outputs": [
    {
     "name": "stdout",
     "output_type": "stream",
     "text": [
      "\u001b[31mDEPRECATION: The default format will switch to columns in the future. You can use --format=(legacy|columns) (or define a format=(legacy|columns) in your pip.conf under the [list] section) to disable this warning.\u001b[0m\r\n",
      "alabaster (0.7.9)\r\n",
      "anaconda-client (1.6.0)\r\n",
      "anaconda-navigator (1.4.3)\r\n",
      "appnope (0.1.0)\r\n",
      "appscript (1.0.1)\r\n",
      "astroid (1.4.9)\r\n",
      "astropy (1.3)\r\n",
      "Babel (2.3.4)\r\n",
      "backports.shutil-get-terminal-size (1.0.0)\r\n",
      "beautifulsoup4 (4.5.3)\r\n",
      "bitarray (0.8.1)\r\n",
      "blaze (0.10.1)\r\n",
      "bokeh (0.12.4)\r\n",
      "boto (2.45.0)\r\n",
      "Bottleneck (1.2.0)\r\n",
      "cffi (1.9.1)\r\n",
      "chardet (2.3.0)\r\n",
      "chest (0.2.3)\r\n",
      "click (6.7)\r\n",
      "cloudpickle (0.2.2)\r\n",
      "clyent (1.2.2)\r\n",
      "colorama (0.3.7)\r\n",
      "conda (4.3.8)\r\n",
      "configobj (5.0.6)\r\n",
      "contextlib2 (0.5.4)\r\n",
      "cryptography (1.7.1)\r\n",
      "cycler (0.10.0)\r\n",
      "Cython (0.25.2)\r\n",
      "cytoolz (0.8.2)\r\n",
      "dask (0.13.0)\r\n",
      "datashape (0.5.4)\r\n",
      "decorator (4.0.11)\r\n",
      "dill (0.2.5)\r\n",
      "docutils (0.13.1)\r\n",
      "et-xmlfile (1.0.1)\r\n",
      "fastcache (1.0.2)\r\n",
      "Flask (0.12)\r\n",
      "Flask-Cors (3.0.2)\r\n",
      "gevent (1.2.1)\r\n",
      "greenlet (0.4.11)\r\n",
      "h5py (2.6.0)\r\n",
      "HeapDict (1.0.0)\r\n",
      "idna (2.2)\r\n",
      "imagesize (0.7.1)\r\n",
      "ipykernel (4.5.2)\r\n",
      "ipython (5.1.0)\r\n",
      "ipython-genutils (0.1.0)\r\n",
      "ipywidgets (5.2.2)\r\n",
      "isort (4.2.5)\r\n",
      "itsdangerous (0.24)\r\n",
      "jdcal (1.3)\r\n",
      "jedi (0.9.0)\r\n",
      "Jinja2 (2.9.4)\r\n",
      "jsonschema (2.5.1)\r\n",
      "jupyter (1.0.0)\r\n",
      "jupyter-client (4.4.0)\r\n",
      "jupyter-console (5.0.0)\r\n",
      "jupyter-core (4.2.1)\r\n",
      "lazy-object-proxy (1.2.2)\r\n",
      "llvmlite (0.15.0)\r\n",
      "locket (0.2.0)\r\n",
      "lxml (3.7.2)\r\n",
      "MarkupSafe (0.23)\r\n",
      "matplotlib (2.0.0)\r\n",
      "mistune (0.7.3)\r\n",
      "mpmath (0.19)\r\n",
      "multipledispatch (0.4.9)\r\n",
      "nbconvert (4.2.0)\r\n",
      "nbformat (4.2.0)\r\n",
      "networkx (1.11)\r\n",
      "nltk (3.2.2)\r\n",
      "nose (1.3.7)\r\n",
      "notebook (4.3.1)\r\n",
      "numba (0.30.1)\r\n",
      "numexpr (2.6.1)\r\n",
      "numpy (1.11.3)\r\n",
      "numpydoc (0.6.0)\r\n",
      "odo (0.5.0)\r\n",
      "openpyxl (2.4.1)\r\n",
      "pandas (0.19.2)\r\n",
      "partd (0.3.7)\r\n",
      "pathlib2 (2.2.0)\r\n",
      "patsy (0.4.1)\r\n",
      "pep8 (1.7.0)\r\n",
      "pexpect (4.2.1)\r\n",
      "pickleshare (0.7.4)\r\n",
      "Pillow (4.0.0)\r\n",
      "pip (9.0.1)\r\n",
      "ply (3.9)\r\n",
      "prompt-toolkit (1.0.9)\r\n",
      "psutil (5.0.1)\r\n",
      "ptyprocess (0.5.1)\r\n",
      "py (1.4.32)\r\n",
      "pyasn1 (0.1.9)\r\n",
      "pycosat (0.6.1)\r\n",
      "pycparser (2.17)\r\n",
      "pycrypto (2.6.1)\r\n",
      "pycurl (7.43.0)\r\n",
      "pyflakes (1.5.0)\r\n",
      "Pygments (2.1.3)\r\n",
      "pylint (1.6.4)\r\n",
      "pyOpenSSL (16.2.0)\r\n",
      "pyparsing (2.1.4)\r\n",
      "pytest (3.0.5)\r\n",
      "python-dateutil (2.6.0)\r\n",
      "pytz (2016.10)\r\n",
      "PyYAML (3.12)\r\n",
      "pyzmq (16.0.2)\r\n",
      "QtAwesome (0.4.3)\r\n",
      "qtconsole (4.2.1)\r\n",
      "QtPy (1.2.1)\r\n",
      "redis (2.10.5)\r\n",
      "requests (2.12.4)\r\n",
      "rope-py3k (0.9.4.post1)\r\n",
      "scikit-image (0.12.3)\r\n",
      "scikit-learn (0.18.1)\r\n",
      "scipy (0.18.1)\r\n",
      "seaborn (0.7.1)\r\n",
      "setuptools (27.2.0)\r\n",
      "simplegeneric (0.8.1)\r\n",
      "singledispatch (3.4.0.3)\r\n",
      "six (1.10.0)\r\n",
      "snowballstemmer (1.2.1)\r\n",
      "sockjs-tornado (1.0.3)\r\n",
      "Sphinx (1.5.1)\r\n",
      "spyder (3.1.2)\r\n",
      "SQLAlchemy (1.1.5)\r\n",
      "statsmodels (0.6.1)\r\n",
      "sympy (1.0)\r\n",
      "tables (3.3.0)\r\n",
      "terminado (0.6)\r\n",
      "toolz (0.8.2)\r\n",
      "tornado (4.4.2)\r\n",
      "traitlets (4.3.1)\r\n",
      "unicodecsv (0.14.1)\r\n",
      "wcwidth (0.1.7)\r\n",
      "Werkzeug (0.11.15)\r\n",
      "wheel (0.29.0)\r\n",
      "widgetsnbextension (1.2.6)\r\n",
      "wrapt (1.10.8)\r\n",
      "xlrd (1.0.0)\r\n",
      "XlsxWriter (0.9.6)\r\n",
      "xlwings (0.10.2)\r\n",
      "xlwt (1.2.0)\r\n"
     ]
    }
   ],
   "source": [
    "!pip list"
   ]
  },
  {
   "cell_type": "code",
   "execution_count": 12,
   "metadata": {
    "collapsed": true
   },
   "outputs": [],
   "source": [
    "# % Significa que SOLO el comando que viene es Magic \n",
    "# %% Significa que toda la célula será Magic\n",
    "# Magic: no necesariamente Phyton, se puede ejecutar por ejemplo en línea de comandos)"
   ]
  },
  {
   "cell_type": "code",
   "execution_count": 14,
   "metadata": {
    "collapsed": false
   },
   "outputs": [
    {
     "data": {
      "application/json": {
       "cell": {
        "!": "OSMagics",
        "HTML": "Other",
        "SVG": "Other",
        "bash": "Other",
        "capture": "ExecutionMagics",
        "debug": "ExecutionMagics",
        "file": "Other",
        "html": "DisplayMagics",
        "javascript": "DisplayMagics",
        "js": "DisplayMagics",
        "latex": "DisplayMagics",
        "perl": "Other",
        "prun": "ExecutionMagics",
        "pypy": "Other",
        "python": "Other",
        "python2": "Other",
        "python3": "Other",
        "ruby": "Other",
        "script": "ScriptMagics",
        "sh": "Other",
        "svg": "DisplayMagics",
        "sx": "OSMagics",
        "system": "OSMagics",
        "time": "ExecutionMagics",
        "timeit": "ExecutionMagics",
        "writefile": "OSMagics"
       },
       "line": {
        "alias": "OSMagics",
        "alias_magic": "BasicMagics",
        "autocall": "AutoMagics",
        "automagic": "AutoMagics",
        "autosave": "KernelMagics",
        "bookmark": "OSMagics",
        "cat": "Other",
        "cd": "OSMagics",
        "clear": "KernelMagics",
        "colors": "BasicMagics",
        "config": "ConfigMagics",
        "connect_info": "KernelMagics",
        "cp": "Other",
        "debug": "ExecutionMagics",
        "dhist": "OSMagics",
        "dirs": "OSMagics",
        "doctest_mode": "BasicMagics",
        "ed": "Other",
        "edit": "KernelMagics",
        "env": "OSMagics",
        "gui": "BasicMagics",
        "hist": "Other",
        "history": "HistoryMagics",
        "killbgscripts": "ScriptMagics",
        "ldir": "Other",
        "less": "KernelMagics",
        "lf": "Other",
        "lk": "Other",
        "ll": "Other",
        "load": "CodeMagics",
        "load_ext": "ExtensionMagics",
        "loadpy": "CodeMagics",
        "logoff": "LoggingMagics",
        "logon": "LoggingMagics",
        "logstart": "LoggingMagics",
        "logstate": "LoggingMagics",
        "logstop": "LoggingMagics",
        "ls": "Other",
        "lsmagic": "BasicMagics",
        "lx": "Other",
        "macro": "ExecutionMagics",
        "magic": "BasicMagics",
        "man": "KernelMagics",
        "matplotlib": "PylabMagics",
        "mkdir": "Other",
        "more": "KernelMagics",
        "mv": "Other",
        "notebook": "BasicMagics",
        "page": "BasicMagics",
        "pastebin": "CodeMagics",
        "pdb": "ExecutionMagics",
        "pdef": "NamespaceMagics",
        "pdoc": "NamespaceMagics",
        "pfile": "NamespaceMagics",
        "pinfo": "NamespaceMagics",
        "pinfo2": "NamespaceMagics",
        "popd": "OSMagics",
        "pprint": "BasicMagics",
        "precision": "BasicMagics",
        "profile": "BasicMagics",
        "prun": "ExecutionMagics",
        "psearch": "NamespaceMagics",
        "psource": "NamespaceMagics",
        "pushd": "OSMagics",
        "pwd": "OSMagics",
        "pycat": "OSMagics",
        "pylab": "PylabMagics",
        "qtconsole": "KernelMagics",
        "quickref": "BasicMagics",
        "recall": "HistoryMagics",
        "rehashx": "OSMagics",
        "reload_ext": "ExtensionMagics",
        "rep": "Other",
        "rerun": "HistoryMagics",
        "reset": "NamespaceMagics",
        "reset_selective": "NamespaceMagics",
        "rm": "Other",
        "rmdir": "Other",
        "run": "ExecutionMagics",
        "save": "CodeMagics",
        "sc": "OSMagics",
        "set_env": "OSMagics",
        "store": "StoreMagics",
        "sx": "OSMagics",
        "system": "OSMagics",
        "tb": "ExecutionMagics",
        "time": "ExecutionMagics",
        "timeit": "ExecutionMagics",
        "unalias": "OSMagics",
        "unload_ext": "ExtensionMagics",
        "who": "NamespaceMagics",
        "who_ls": "NamespaceMagics",
        "whos": "NamespaceMagics",
        "xdel": "NamespaceMagics",
        "xmode": "BasicMagics"
       }
      },
      "text/plain": [
       "Available line magics:\n",
       "%alias  %alias_magic  %autocall  %automagic  %autosave  %bookmark  %cat  %cd  %clear  %colors  %config  %connect_info  %cp  %debug  %dhist  %dirs  %doctest_mode  %ed  %edit  %env  %gui  %hist  %history  %killbgscripts  %ldir  %less  %lf  %lk  %ll  %load  %load_ext  %loadpy  %logoff  %logon  %logstart  %logstate  %logstop  %ls  %lsmagic  %lx  %macro  %magic  %man  %matplotlib  %mkdir  %more  %mv  %notebook  %page  %pastebin  %pdb  %pdef  %pdoc  %pfile  %pinfo  %pinfo2  %popd  %pprint  %precision  %profile  %prun  %psearch  %psource  %pushd  %pwd  %pycat  %pylab  %qtconsole  %quickref  %recall  %rehashx  %reload_ext  %rep  %rerun  %reset  %reset_selective  %rm  %rmdir  %run  %save  %sc  %set_env  %store  %sx  %system  %tb  %time  %timeit  %unalias  %unload_ext  %who  %who_ls  %whos  %xdel  %xmode\n",
       "\n",
       "Available cell magics:\n",
       "%%!  %%HTML  %%SVG  %%bash  %%capture  %%debug  %%file  %%html  %%javascript  %%js  %%latex  %%perl  %%prun  %%pypy  %%python  %%python2  %%python3  %%ruby  %%script  %%sh  %%svg  %%sx  %%system  %%time  %%timeit  %%writefile\n",
       "\n",
       "Automagic is ON, % prefix IS NOT needed for line magics."
      ]
     },
     "execution_count": 14,
     "metadata": {},
     "output_type": "execute_result"
    }
   ],
   "source": [
    "%lsmagic"
   ]
  },
  {
   "cell_type": "code",
   "execution_count": 21,
   "metadata": {
    "collapsed": false
   },
   "outputs": [
    {
     "data": {
      "text/plain": [
       "'/Users/usalazarr/Documents/PROCESAMENTO_IMAGENS'"
      ]
     },
     "execution_count": 21,
     "metadata": {},
     "output_type": "execute_result"
    }
   ],
   "source": [
    "%pwd"
   ]
  },
  {
   "cell_type": "code",
   "execution_count": 28,
   "metadata": {
    "collapsed": false
   },
   "outputs": [
    {
     "name": "stdout",
     "output_type": "stream",
     "text": [
      "total 32\r\n",
      "drwxr-xr-x   4 usalazarr  staff    136  8 Mar 17:33 \u001b[34m.\u001b[m\u001b[m\r\n",
      "drwxr-xr-x+ 22 usalazarr  staff    748  7 Mar 21:25 \u001b[34m..\u001b[m\u001b[m\r\n",
      "drwxr-xr-x   3 usalazarr  staff    102  8 Mar 16:31 \u001b[34m.ipynb_checkpoints\u001b[m\u001b[m\r\n",
      "-rw-r--r--   1 usalazarr  staff  12900  8 Mar 17:33 Testing Jupyter.ipynb\r\n"
     ]
    }
   ],
   "source": [
    "!ls -la"
   ]
  },
  {
   "cell_type": "code",
   "execution_count": 31,
   "metadata": {
    "collapsed": false
   },
   "outputs": [],
   "source": [
    "%matplotlib inline"
   ]
  },
  {
   "cell_type": "code",
   "execution_count": 38,
   "metadata": {
    "collapsed": false
   },
   "outputs": [
    {
     "data": {
      "image/png": "[encoded data removed]",
      "text/plain": [
       "<matplotlib.figure.Figure at 0x10e9762b0>"
      ]
     },
     "metadata": {},
     "output_type": "display_data"
    }
   ],
   "source": [
    "\"Simple demo of scater plot\"\n",
    "import numpy as np\n",
    "import matplotlib.pyplot as plt\n",
    "\n",
    "N = 10\n",
    "x = np.random.rand(N)\n",
    "y = np.random.rand(N)\n",
    "colors=np.random.rand(N)\n",
    "area=np.pi*(15*np.random.rand(N))**2 # Radios de 0 a 15\n",
    "\n",
    "plt.scatter(x,y,s=area,c=colors,alpha=0.5)\n",
    "plt.show()"
   ]
  },
  {
   "cell_type": "code",
   "execution_count": 41,
   "metadata": {
    "collapsed": true
   },
   "outputs": [],
   "source": [
    "plt.scatter?"
   ]
  },
  {
   "cell_type": "code",
   "execution_count": 42,
   "metadata": {
    "collapsed": false
   },
   "outputs": [
    {
     "data": {
      "text/html": [
       "<iframe width=\"560\" height=\"315\" src=\"https://www.youtube.com/embed/YJC6ldI3hWk\" frameborder=\"0\" allowfullscreen></iframe>"
      ],
      "text/plain": [
       "<IPython.core.display.HTML object>"
      ]
     },
     "metadata": {},
     "output_type": "display_data"
    }
   ],
   "source": [
    "%%HTML\n",
    "<iframe width=\"560\" height=\"315\" src=\"https://www.youtube.com/embed/YJC6ldI3hWk\" frameborder=\"0\" allowfullscreen></iframe>"
   ]
  },
  {
   "cell_type": "code",
   "execution_count": 53,
   "metadata": {
    "collapsed": false
   },
   "outputs": [
    {
     "name": "stdout",
     "output_type": "stream",
     "text": [
      "The slowest run took 4.81 times longer than the fastest. This could mean that an intermediate result is being cached.\n",
      "1000000 loops, best of 3: 309 ns per loop\n"
     ]
    }
   ],
   "source": [
    "%%timeit \n",
    "len([1,2,3,4])\n",
    "len([1,2,3,4,5,6,7,8])"
   ]
  },
  {
   "cell_type": "code",
   "execution_count": 55,
   "metadata": {
    "collapsed": false
   },
   "outputs": [
    {
     "data": {
      "text/html": [
       "<div>\n",
       "<table border=\"1\" class=\"dataframe\">\n",
       "  <thead>\n",
       "    <tr style=\"text-align: right;\">\n",
       "      <th></th>\n",
       "      <th>0</th>\n",
       "      <th>1</th>\n",
       "      <th>2</th>\n",
       "      <th>3</th>\n",
       "      <th>4</th>\n",
       "    </tr>\n",
       "  </thead>\n",
       "  <tbody>\n",
       "    <tr>\n",
       "      <th>0</th>\n",
       "      <td>-0.217474</td>\n",
       "      <td>-0.828726</td>\n",
       "      <td>1.325751</td>\n",
       "      <td>2.049796</td>\n",
       "      <td>1.032050</td>\n",
       "    </tr>\n",
       "    <tr>\n",
       "      <th>1</th>\n",
       "      <td>0.739630</td>\n",
       "      <td>0.279275</td>\n",
       "      <td>1.210272</td>\n",
       "      <td>0.661637</td>\n",
       "      <td>-0.289170</td>\n",
       "    </tr>\n",
       "    <tr>\n",
       "      <th>2</th>\n",
       "      <td>-1.338799</td>\n",
       "      <td>-0.086430</td>\n",
       "      <td>0.864784</td>\n",
       "      <td>-0.547462</td>\n",
       "      <td>-1.048610</td>\n",
       "    </tr>\n",
       "    <tr>\n",
       "      <th>3</th>\n",
       "      <td>0.572314</td>\n",
       "      <td>1.280529</td>\n",
       "      <td>-1.219513</td>\n",
       "      <td>0.650766</td>\n",
       "      <td>0.011287</td>\n",
       "    </tr>\n",
       "    <tr>\n",
       "      <th>4</th>\n",
       "      <td>1.637080</td>\n",
       "      <td>0.116572</td>\n",
       "      <td>-0.319577</td>\n",
       "      <td>-1.403471</td>\n",
       "      <td>-0.390629</td>\n",
       "    </tr>\n",
       "  </tbody>\n",
       "</table>\n",
       "</div>"
      ],
      "text/plain": [
       "          0         1         2         3         4\n",
       "0 -0.217474 -0.828726  1.325751  2.049796  1.032050\n",
       "1  0.739630  0.279275  1.210272  0.661637 -0.289170\n",
       "2 -1.338799 -0.086430  0.864784 -0.547462 -1.048610\n",
       "3  0.572314  1.280529 -1.219513  0.650766  0.011287\n",
       "4  1.637080  0.116572 -0.319577 -1.403471 -0.390629"
      ]
     },
     "execution_count": 55,
     "metadata": {},
     "output_type": "execute_result"
    }
   ],
   "source": [
    "import pandas as pd\n",
    "import numpy as np\n",
    "\n",
    "df=pd.DataFrame(np.random.randn(10,5))\n",
    "df.head()"
   ]
  },
  {
   "cell_type": "code",
   "execution_count": null,
   "metadata": {
    "collapsed": true
   },
   "outputs": [],
   "source": []
  }
 ],
 "metadata": {
  "kernelspec": {
   "display_name": "Python 3",
   "language": "python",
   "name": "python3"
  },
  "language_info": {
   "codemirror_mode": {
    "name": "ipython",
    "version": 3
   },
   "file_extension": ".py",
   "mimetype": "text/x-python",
   "name": "python",
   "nbconvert_exporter": "python",
   "pygments_lexer": "ipython3",
   "version": "3.6.0"
  }
 },
 "nbformat": 4,
 "nbformat_minor": 2
}
