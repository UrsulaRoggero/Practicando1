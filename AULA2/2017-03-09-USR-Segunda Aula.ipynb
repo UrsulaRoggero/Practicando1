{
 "cells": [
  {
   "cell_type": "markdown",
   "metadata": {},
   "source": [
    "# Aula 2\n",
    "\n",
    "Sequencia:\n",
    "- http://localhost:8888/notebooks/ia898-master/master/tutorial_numpy_1_1.ipynb\n",
    "- http://localhost:8888/notebooks/ia898-master/deliver/Atividade_1_3.ipynb\n",
    "- http://localhost:8888/notebooks/ia898-master/master/tutorial_img_ds.ipynb\n",
    "- http://localhost:8888/notebooks/ia898-master/master/tutorial_numpy_1_4.ipynb\n",
    "- http://localhost:8888/notebooks/ia898-master/master/tutorial_1_imagens.ipynb\n"
   ]
  },
  {
   "cell_type": "markdown",
   "metadata": {},
   "source": [
    "Phyton-->NumPy é o pacote que vamos utilizar para procesamento de Imagens.\n",
    "Para ese pacote --> Imagen: Array Multidimensional\n",
    "\n",
    "Imagen tem\n",
    "1. Cabecalho:\n",
    "    Tipo de Pixel: dtype\n",
    "    Shape: bandas,rows, cols\n",
    "2. ndarray: raster\n",
    "\n",
    "RGB: (rows, cols, 3)\n",
    "RGB: (3,rows,cols)"
   ]
  },
  {
   "cell_type": "markdown",
   "metadata": {},
   "source": [
    "## Copias\n",
    "\n",
    "a= (cabe + raster)\n",
    "b=a # Nao copia, so da outro nome a variavel a\n",
    "\n",
    "b=.a.copy() # Aquí SÍ hace una copia\n",
    "\n",
    "A Copia Rasa permite que veas una misma variable de diferentes formas xq solo estan compartilando o raster, con diferentes cabecalhos."
   ]
  },
  {
   "cell_type": "markdown",
   "metadata": {},
   "source": [
    "## TAREFA (Atividade 1_3)\n",
    "\n",
    "\n",
    "### Programas para correção automática\n",
    "\n",
    "Como parte final das atividades desta semana, planejamos três programas simples que devem ser feitos e que serão corrigidos automaticamente, eles estão na sua lista de atividades da 1a semana. Os três programas devem ser resolvidos utilizando estritamente os conceitos de fatiamento discutidos e apresentados nos tutoriais mencionados. Evite fazer solução que utilize laço explícito com o uso de for:\n",
    "+ Programa para sobrepor quadriculado em imagem de cinza.\n",
    "+ Programa de imagens de quadrados cinzas.\n",
    "+ Programa para rotacionar uma imagem de 90 graus no sentido horário\n",
    "Lembrar que como o Adessowiki é um ambiente colaborativo, poderemos compartilhar nossas experiências e aprender e ajudar os colegas."
   ]
  },
  {
   "cell_type": "code",
   "execution_count": null,
   "metadata": {
    "collapsed": true
   },
   "outputs": [],
   "source": []
  }
 ],
 "metadata": {
  "kernelspec": {
   "display_name": "Python 3",
   "language": "python",
   "name": "python3"
  },
  "language_info": {
   "codemirror_mode": {
    "name": "ipython",
    "version": 3
   },
   "file_extension": ".py",
   "mimetype": "text/x-python",
   "name": "python",
   "nbconvert_exporter": "python",
   "pygments_lexer": "ipython3",
   "version": "3.6.0"
  }
 },
 "nbformat": 4,
 "nbformat_minor": 2
}
